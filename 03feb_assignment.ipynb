{
 "cells": [
  {
   "cell_type": "markdown",
   "id": "50f596e2-3ca8-4c33-94f5-f2360979684a",
   "metadata": {},
   "source": [
    "# <p style='text-align: center;'> Function Assignment</p>"
   ]
  },
  {
   "cell_type": "markdown",
   "id": "cc9c61b2-74e1-46c2-850a-dbe2a8224aa3",
   "metadata": {},
   "source": [
    "## 1) Which keyword is used to create function ?<br>Create a function to return a list of odd numbers in the range of 1 to 25"
   ]
  },
  {
   "cell_type": "markdown",
   "id": "fddf46a2-9f73-4239-9fab-9f10ea6c3e42",
   "metadata": {},
   "source": [
    "Ans) A function is a block of code which only runs when it is called by using \"def\" keyword.<br>In Python, you define a function with the def keyword, then write the function identifier (name) followed by parentheses and a colon(:)\n",
    "Syntax,<br>\n",
    "def func_name(arg):\n",
    "   #func body\n",
    "   \n",
    "   \n",
    "    return"
   ]
  },
  {
   "cell_type": "code",
   "execution_count": 27,
   "id": "a3f2600a-aef1-4ed9-ab7c-04277aae6abc",
   "metadata": {},
   "outputs": [],
   "source": [
    "def get_odd_numbers():\n",
    "    odd_numbers = []\n",
    "    for num in range(1, 26):\n",
    "        if num % 2 != 0:\n",
    "            odd_numbers.append(num)\n",
    "    return odd_numbers"
   ]
  },
  {
   "cell_type": "code",
   "execution_count": 28,
   "id": "416420fc-1249-45b6-94de-94ce9c7d1bad",
   "metadata": {},
   "outputs": [],
   "source": [
    "x= get_odd_numbers()"
   ]
  },
  {
   "cell_type": "code",
   "execution_count": 29,
   "id": "af0f933d-b951-40a5-b266-cbc40b299ce4",
   "metadata": {},
   "outputs": [
    {
     "name": "stdout",
     "output_type": "stream",
     "text": [
      "[1, 3, 5, 7, 9, 11, 13, 15, 17, 19, 21, 23, 25]\n"
     ]
    }
   ],
   "source": [
    "print(x)"
   ]
  },
  {
   "cell_type": "markdown",
   "id": "841b22b1-c6be-4fa1-99f7-f0ead0a9be46",
   "metadata": {},
   "source": [
    "## 2)Why *args and *Kwargs is used in some function create a function each for *args and *Kwargs to demonstrate their use"
   ]
  },
  {
   "cell_type": "markdown",
   "id": "f364b5e2-9a0c-441d-97c2-f29e251e2558",
   "metadata": {},
   "source": [
    " Ans) The special syntax *args and **kwargs in Python are used to pass a variable number of arguments to a function. The *args syntax allows a function to accept a variable number of positional arguments. On the other hand, the **kwargs syntax allows a function to accept a variable number of keyword arguments.\n",
    "\n",
    "Here's an example of a function that uses *args to accept a variable number of arguments:"
   ]
  },
  {
   "cell_type": "code",
   "execution_count": 30,
   "id": "32d97ef1-9ed2-467b-abea-615608b49683",
   "metadata": {},
   "outputs": [],
   "source": [
    "def sum_numbers(*args):\n",
    "    total = 0\n",
    "    for num in args:\n",
    "        total += num\n",
    "    return total"
   ]
  },
  {
   "cell_type": "code",
   "execution_count": 31,
   "id": "a2bc3333-47a6-4137-8bbf-6a79785cbd32",
   "metadata": {},
   "outputs": [
    {
     "data": {
      "text/plain": [
       "67.9"
      ]
     },
     "execution_count": 31,
     "metadata": {},
     "output_type": "execute_result"
    }
   ],
   "source": [
    "sum_numbers(3,4.5,6.4,54)"
   ]
  },
  {
   "cell_type": "markdown",
   "id": "298009e4-fe4d-4da6-8524-ba9d7bd046fe",
   "metadata": {},
   "source": [
    "In this function, *args is used to accept a variable number of positional arguments. The function then adds up all the numbers passed in and returns the total.\n",
    "\n",
    "Here's an example of a function that uses **kwargs to accept a variable number of keyword arguments:"
   ]
  },
  {
   "cell_type": "code",
   "execution_count": 32,
   "id": "a153b7d1-fdb8-4b7d-9d72-4dda70f82015",
   "metadata": {},
   "outputs": [],
   "source": [
    "def print_values(**kwargs):\n",
    "    for key, value in kwargs.items():\n",
    "        print(f\"{key}: {value}\")"
   ]
  },
  {
   "cell_type": "code",
   "execution_count": 36,
   "id": "8ef3e461-0d19-4d67-9261-25e7583b0dfd",
   "metadata": {},
   "outputs": [
    {
     "name": "stdout",
     "output_type": "stream",
     "text": [
      "name: Shruti\n",
      "ID: 345\n",
      "city: nagpur\n"
     ]
    }
   ],
   "source": [
    "print_values(name=\"Shruti\",ID=345,city=\"nagpur\")"
   ]
  },
  {
   "cell_type": "code",
   "execution_count": 37,
   "id": "8ce3b4ce-12cc-4ee1-bd50-973235082959",
   "metadata": {},
   "outputs": [
    {
     "name": "stdout",
     "output_type": "stream",
     "text": [
      "10\n",
      "name: John\n",
      "age: 30\n",
      "city: New York\n"
     ]
    }
   ],
   "source": [
    "# Here's an example of how you can call these functions:\n",
    "\n",
    "# Using the sum_numbers function\n",
    "result = sum_numbers(1, 2, 3, 4)\n",
    "print(result)  # Output: 10\n",
    "\n",
    "# Using the print_values function\n",
    "print_values(name=\"John\", age=30, city=\"New York\")\n",
    "# Output:\n",
    "# name: John\n",
    "# age: 30\n",
    "# city: New York"
   ]
  },
  {
   "cell_type": "markdown",
   "id": "a5f6732c-d3ee-4f15-bdcf-e1c3b9390cc3",
   "metadata": {},
   "source": [
    "As you can see, the *args and **kwargs syntax can add more flexibility to your functions and allow you to accept a variable number of arguments."
   ]
  },
  {
   "cell_type": "markdown",
   "id": "3cef4a01-17f4-4fe1-9eba-95ec017663db",
   "metadata": {},
   "source": [
    "## 3) What is an iterator in python? Name the method used to initialise the iterator object and the method used for iteration. Use these methods to print the first five elements of the given list [2, 4, 6, 8, 10, 12, 14, 16,18, 20]."
   ]
  },
  {
   "cell_type": "markdown",
   "id": "812d7f9a-77ba-4973-a17b-774dd61b40aa",
   "metadata": {},
   "source": [
    "Ans) In Python, an iterator is an object that enables iteration over a collection of data, such as a list, tuple, dictionary, or set. An iterator is used to access the elements of a collection one by one, without needing to know the specific details of the collection's implementation. Technically, in Python, an iterator is an object which implements the iterator protocol, which consist of the methods __iter__() and __next__() "
   ]
  },
  {
   "cell_type": "code",
   "execution_count": 38,
   "id": "999d81fd-9b3d-4460-9cf8-9ce3de8b82fa",
   "metadata": {},
   "outputs": [
    {
     "name": "stdout",
     "output_type": "stream",
     "text": [
      "2\n",
      "4\n",
      "6\n",
      "8\n",
      "10\n"
     ]
    }
   ],
   "source": [
    "# To print the first five elements of the given list [2, 4, 6, 8, 10, 12, 14, 16, 18, 20] \n",
    "# using the __next__() method, you need to create an iterator object from the list and \n",
    "# then call the __next__() method on it five times.\n",
    "# Here's an example:\n",
    "my_list = [2, 4, 6, 8, 10, 12, 14, 16, 18, 20]\n",
    "\n",
    "my_iterator = iter(my_list)\n",
    "\n",
    "for i in range(5):\n",
    "    print(next(my_iterator))"
   ]
  },
  {
   "cell_type": "markdown",
   "id": "45d01513-f292-4e59-8676-a200729e2b2d",
   "metadata": {},
   "source": [
    "## 4) What is a generator function in python? Why yield keyword is used? Give an example of a generator function."
   ]
  },
  {
   "cell_type": "markdown",
   "id": "515233a5-242f-4fe2-b34c-c3c61aa6d99b",
   "metadata": {},
   "source": [
    "Ans)In Python, a generator function is a special type of function that can be used to create an iterator object. An iterator is an object that can be used to iterate over a collection of values, one value at a time. A generator function uses the \"yield\" keyword to produce a sequence of values, which can be used to create an iterator."
   ]
  },
  {
   "cell_type": "code",
   "execution_count": 2,
   "id": "266257ba-334c-41b5-b2c4-ed41eb718312",
   "metadata": {},
   "outputs": [],
   "source": [
    "def even_numbers(n):\n",
    "    for i in range(2, n + 1, 2):\n",
    "        yield i"
   ]
  },
  {
   "cell_type": "code",
   "execution_count": 5,
   "id": "5decea41-2ce7-4fd7-95a4-7592503745c3",
   "metadata": {},
   "outputs": [
    {
     "name": "stdout",
     "output_type": "stream",
     "text": [
      "2\n",
      "4\n",
      "6\n",
      "8\n",
      "10\n"
     ]
    }
   ],
   "source": [
    "for i in even_numbers(10):\n",
    "    print(i)"
   ]
  },
  {
   "cell_type": "markdown",
   "id": "a59d1098-adca-4315-8cad-d1d714f6c912",
   "metadata": {},
   "source": [
    "## 5) Create a generator function for prime numbers less than 1000. Use the next() method to print the first 20 prime numbers."
   ]
  },
  {
   "cell_type": "markdown",
   "id": "bc8dc974-4332-4fdb-8759-c4d360d844d5",
   "metadata": {},
   "source": [
    "Ans)"
   ]
  },
  {
   "cell_type": "code",
   "execution_count": 10,
   "id": "d7b35868-5a87-4ec2-90ea-76c3dba7fd05",
   "metadata": {},
   "outputs": [],
   "source": [
    "#  a generator function for prime numbers less than 1000 using next ()\n",
    "def prime_numbers():\n",
    " \n",
    "    primes=[2]  \n",
    "    yield 2\n",
    "    num=3\n",
    "    while num<1000:\n",
    "        is_prime=True\n",
    "        for p in primes:\n",
    "            if num%p==0:\n",
    "                is_prime= False\n",
    "                break\n",
    "            if p**2>num:\n",
    "                break\n",
    "        if is_prime:\n",
    "            primes.append(num)\n",
    "            yield num\n",
    "        num +=2    "
   ]
  },
  {
   "cell_type": "code",
   "execution_count": 11,
   "id": "e3096b04-7c9e-4de1-b2dc-ca8a9b6799c7",
   "metadata": {},
   "outputs": [
    {
     "name": "stdout",
     "output_type": "stream",
     "text": [
      "2\n",
      "3\n",
      "5\n",
      "7\n",
      "11\n",
      "13\n",
      "17\n",
      "19\n",
      "23\n",
      "29\n",
      "31\n",
      "37\n",
      "41\n",
      "43\n",
      "47\n",
      "53\n",
      "59\n",
      "61\n",
      "67\n",
      "71\n"
     ]
    }
   ],
   "source": [
    "x=prime_numbers()\n",
    "for i in range(20):\n",
    "    print(next(x))"
   ]
  },
  {
   "cell_type": "code",
   "execution_count": null,
   "id": "d6b0e447-ba3d-4df2-b14c-68622238bf30",
   "metadata": {},
   "outputs": [],
   "source": []
  }
 ],
 "metadata": {
  "kernelspec": {
   "display_name": "Python 3 (ipykernel)",
   "language": "python",
   "name": "python3"
  },
  "language_info": {
   "codemirror_mode": {
    "name": "ipython",
    "version": 3
   },
   "file_extension": ".py",
   "mimetype": "text/x-python",
   "name": "python",
   "nbconvert_exporter": "python",
   "pygments_lexer": "ipython3",
   "version": "3.10.8"
  }
 },
 "nbformat": 4,
 "nbformat_minor": 5
}
