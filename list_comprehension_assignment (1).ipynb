{
 "cells": [
  {
   "cell_type": "markdown",
   "id": "c4002ca8-bf79-4788-aad8-0e65a6b174ce",
   "metadata": {},
   "source": [
    "# assingment\n",
    "# using both code and list comprehension\n",
    "## 1) Create a list of only prime numbers from a given list"
   ]
  },
  {
   "cell_type": "code",
   "execution_count": 1,
   "id": "edbfe83e-a5d8-452e-9e35-599298c94259",
   "metadata": {},
   "outputs": [
    {
     "name": "stdin",
     "output_type": "stream",
     "text": [
      "enter start number of a range 0\n",
      "enter end number of a range 10\n"
     ]
    },
    {
     "name": "stdout",
     "output_type": "stream",
     "text": [
      "the given range has follwing prime numbers:\n",
      "3555777779"
     ]
    }
   ],
   "source": [
    "\n",
    "start=int(input(\"enter start number of a range\"))\n",
    "end=int(input(\"enter end number of a range\"))\n",
    "print(\"the given range has follwing prime numbers:\")\n",
    "for i in range(start,end+1):#this the loop which has all numbers given by user\n",
    "    for j in range(2,i): # this loop is for to check whether i is divisible by range(2 to till i) and i of above range\n",
    "        if i%j==0:\n",
    "            break\n",
    "        else:\n",
    "            print(i, end=\" \")\n",
    "\n",
    "#using list comprehension\n",
    "list1=[1,2,3,4,5,6,7,8,9,10]\n",
    "def is_prime(num):\n",
    "    prime_numbers=[num for num in list1 if is_prime(num)]\n",
    "    print(prime_numbers)\n"
   ]
  },
  {
   "cell_type": "markdown",
   "id": "01233bc4-4bcd-41fe-940a-0490b1050158",
   "metadata": {},
   "source": [
    "## 2) Create a list of all possible combinations of 2 elements from a list"
   ]
  },
  {
   "cell_type": "code",
   "execution_count": 6,
   "id": "9fb7cff8-ef6e-4119-af57-560de418ec38",
   "metadata": {},
   "outputs": [
    {
     "name": "stdout",
     "output_type": "stream",
     "text": [
      "[(1, 2)]\n",
      "[(1, 2), (1, 3)]\n",
      "[(1, 2), (1, 3), (1, 4)]\n",
      "[(1, 2), (1, 3), (1, 4), (1, 5)]\n",
      "[(1, 2), (1, 3), (1, 4), (1, 5), (2, 3)]\n",
      "[(1, 2), (1, 3), (1, 4), (1, 5), (2, 3), (2, 4)]\n",
      "[(1, 2), (1, 3), (1, 4), (1, 5), (2, 3), (2, 4), (2, 5)]\n",
      "[(1, 2), (1, 3), (1, 4), (1, 5), (2, 3), (2, 4), (2, 5), (3, 4)]\n",
      "[(1, 2), (1, 3), (1, 4), (1, 5), (2, 3), (2, 4), (2, 5), (3, 4), (3, 5)]\n",
      "[(1, 2), (1, 3), (1, 4), (1, 5), (2, 3), (2, 4), (2, 5), (3, 4), (3, 5), (4, 5)]\n"
     ]
    }
   ],
   "source": [
    "#coding\n",
    "list2=[1,2,3,4,5]\n",
    "comb=[]\n",
    "for i in range(len(list2)):\n",
    "     for j in range(i+1,len(list2)):\n",
    "            comb.append((list2[i],list2[j]))\n",
    "            print(comb)\n",
    "#using list comprehension\n",
    "comp=[(list2[i],list2[j]) for i in range(len(list2)) for j in range(i+1,len(list2))]"
   ]
  },
  {
   "cell_type": "code",
   "execution_count": null,
   "id": "47a1e099-4ae6-4a77-95bd-da98ab7f48ca",
   "metadata": {},
   "outputs": [],
   "source": []
  }
 ],
 "metadata": {
  "kernelspec": {
   "display_name": "Python 3 (ipykernel)",
   "language": "python",
   "name": "python3"
  },
  "language_info": {
   "codemirror_mode": {
    "name": "ipython",
    "version": 3
   },
   "file_extension": ".py",
   "mimetype": "text/x-python",
   "name": "python",
   "nbconvert_exporter": "python",
   "pygments_lexer": "ipython3",
   "version": "3.10.8"
  }
 },
 "nbformat": 4,
 "nbformat_minor": 5
}
