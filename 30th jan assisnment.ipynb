{
 "cells": [
  {
   "cell_type": "markdown",
   "id": "9605a7a6-21c7-460b-8a29-4c2dd8eccbc9",
   "metadata": {},
   "source": [
    "### Write a program to accent percentage from the user and display the grade accoding to the following criteria."
   ]
  },
  {
   "cell_type": "markdown",
   "id": "5230edda-8a59-4109-8093-6d5f3a2e04b3",
   "metadata": {},
   "source": [
    "| Percentage | Grade |\n",
    "|------------|-------|\n",
    "| >90| A|\n",
    "| >80 and <=90 | B |\n",
    "| >60 and <=80 | C |\n",
    "| Below 60 | D |"
   ]
  },
  {
   "cell_type": "code",
   "execution_count": 16,
   "id": "39fbe2ca-0ccb-4c6c-9b40-bf984cb5fa53",
   "metadata": {},
   "outputs": [
    {
     "name": "stdout",
     "output_type": "stream",
     "text": [
      "Welcome To Result Page Students\n"
     ]
    },
    {
     "name": "stdin",
     "output_type": "stream",
     "text": [
      "Enter your full name shruta m\n",
      "Enter Your Percentage 88\n"
     ]
    },
    {
     "name": "stdout",
     "output_type": "stream",
     "text": [
      "Great !  shruta m You got B Grade \n",
      "you have been promoted to 10th B class\n"
     ]
    }
   ],
   "source": [
    "print('Welcome To Result Page Students')\n",
    "name=input(\"Enter your full name\")\n",
    "per=float(input(\"Enter Your Percentage\"))\n",
    "        \n",
    "if per>90:\n",
    "        print(\"Voila ! \", name,\"You got A Grade \\nyou have been promoted to 10th A class\")\n",
    "        \n",
    "elif per>80 and per<=90:\n",
    "        print(\"Great ! \", name,\"You got B Grade \\nyou have been promoted to 10th B class\")\n",
    "elif per>60 and per<=80:\n",
    "        print(\"Pay more attention,\",name,\"You got C Grade \\nyou have been promoted to 10th C class\")\n",
    "elif per<=60 and per>35:\n",
    "        print(\"Hard work !\",name,\"you got D Grade \\nyou have been promoted to 10th D class\") \n",
    "else:\n",
    "        print('''Fail :(''')"
   ]
  },
  {
   "cell_type": "markdown",
   "id": "56716fef-85e7-447a-b8c4-05b50b9affa0",
   "metadata": {},
   "source": [
    "### Write a program to accept the cost price of a bike and display the road tax to be paid accoring to the following criteria:"
   ]
  },
  {
   "cell_type": "markdown",
   "id": "956475b0-ed16-489b-8fbc-fd420cb21a89",
   "metadata": {},
   "source": [
    "| Tax | Cost price(in rs) |\n",
    "|-----|----|\n",
    "| 15% | >100000 |\n",
    "| 10% | >50000 and <=100000 |\n",
    "| 5% |<=50000 |\n"
   ]
  },
  {
   "cell_type": "code",
   "execution_count": 17,
   "id": "0f7b6d41-2949-4338-b9e6-213136d91198",
   "metadata": {},
   "outputs": [
    {
     "name": "stdout",
     "output_type": "stream",
     "text": [
      "Congratulations for the bike\n"
     ]
    },
    {
     "name": "stdin",
     "output_type": "stream",
     "text": [
      "Enter the price of the bike 67890567\n"
     ]
    },
    {
     "name": "stdout",
     "output_type": "stream",
     "text": [
      "The tax you have to pay is: 10183585.05\n",
      "The total cost:78074152.05\n"
     ]
    }
   ],
   "source": [
    "print(\"Congratulations for the bike\")\n",
    "price=float(input(\"Enter the price of the bike\"))\n",
    "\n",
    "if price>100000:\n",
    "    tax=price*15/100\n",
    "    print(\"The tax you have to pay is:\",tax)\n",
    "    print(f\"The total cost:{tax+price}\")\n",
    "          \n",
    "elif price>50000 and price<=100000:\n",
    "    tax=price*10/100\n",
    "    print(\"The tax you have to pay is:\",tax)\n",
    "    print(f\"The total cost:{tax+price}\")\n",
    "           \n",
    "elif price<50000:           \n",
    "    tax=price*5/100\n",
    "    print(\"The tax you have to pay is:\",tax)\n",
    "    print(f\"The total cost: {tax+price}\")  \n",
    "else:\n",
    "     print(\"Please purchase a bike first\")\n"
   ]
  },
  {
   "cell_type": "markdown",
   "id": "04e39532-bf97-4ce3-b0d4-c232b146df54",
   "metadata": {},
   "source": [
    "### Accept any city from user and display monument of that particular city"
   ]
  },
  {
   "cell_type": "markdown",
   "id": "ccd74d7e-542a-43e4-a8e5-85c2ffd91aff",
   "metadata": {},
   "source": [
    "| City | Monument |\n",
    "|------|----------|\n",
    "| Delhi | Red Fort |\n",
    "| Nagpur | DeekshaBhoomi |\n",
    "| Pune | Shaniwar Wada |"
   ]
  },
  {
   "cell_type": "code",
   "execution_count": null,
   "id": "83af65fa-c794-458f-8467-2f160f7f5714",
   "metadata": {},
   "outputs": [],
   "source": [
    "print(\"Wikipedia\")\n",
    "list=print([\"Delhi\", \"Nagpur\", \"Pune\"])\n",
    "city=input(\"Enter Your Favourite City from the above list\")\n",
    "\n",
    "if city==list[0]:\n",
    "    print(\"Know about Red Fort!\")\n",
    "    \n",
    "elif city==list[1]:\n",
    "    print(\"Know about DeekshaBhoomi!\")\n",
    "\n",
    "elif city==list[2]:\n",
    "    print(\"Know about Shaniwar Wada!\")  \n",
    "    \n",
    "else:\n",
    "    print(\"Wrong Input\")  "
   ]
  },
  {
   "cell_type": "markdown",
   "id": "61e8b813-a395-4886-927b-a094b746c969",
   "metadata": {},
   "source": [
    "### check whether how many times a number can bedivided by 3 before if it is less than or equal to 10"
   ]
  },
  {
   "cell_type": "code",
   "execution_count": null,
   "id": "ad1cf3cd-8fa9-4a13-852f-186af1bff29e",
   "metadata": {},
   "outputs": [],
   "source": [
    "#Divide the number by 3 repeatedly until the result is less than or equal to 10.\n",
    "#Count the number of divisions that were performed.\n",
    "\n",
    "num=int(input(\"Take any number and enter it\"))\n",
    "count=0\n",
    "while num>10:\n",
    "    num=num/3\n",
    "    count=count+1\n",
    "    print(num,\"=\",count)"
   ]
  },
  {
   "cell_type": "markdown",
   "id": "c07dcd94-ce6a-4d28-b4bf-b1da0016ac4f",
   "metadata": {},
   "source": [
    "### Why and when to use While loop in python"
   ]
  },
  {
   "cell_type": "markdown",
   "id": "bc639747-d400-449f-bd7f-1c77cd87b903",
   "metadata": {},
   "source": [
    "ans) The Python while loop is used to repeatedly execute a block of code until a specified condition is met. The syntax of the while loop is: while condition: # code block to be executed. The loop will continue to run until the condition becomes false."
   ]
  },
  {
   "cell_type": "code",
   "execution_count": null,
   "id": "8830b2d6-e27b-4ac5-8c1d-a6194df0a942",
   "metadata": {},
   "outputs": [],
   "source": [
    "#The syntax of while loop:\n",
    "while condition:\n",
    "    print(statement)\n",
    "    increament/drecrement"
   ]
  },
  {
   "cell_type": "code",
   "execution_count": null,
   "id": "178986ed-ff12-4367-88df-78cf8f55a53a",
   "metadata": {},
   "outputs": [],
   "source": [
    "#this is an example of while loop\n",
    "while count<=10:\n",
    "    print(count)\n",
    "    count=count+1"
   ]
  },
  {
   "cell_type": "markdown",
   "id": "87ad514d-ea16-4596-8d6d-f079fba35198",
   "metadata": {},
   "source": [
    "### Create a nested while loop and show 3 types of patterns"
   ]
  },
  {
   "cell_type": "code",
   "execution_count": null,
   "id": "1b108dfa-088b-4377-b3f6-dfb7e6c47f78",
   "metadata": {},
   "outputs": [],
   "source": [
    "\n",
    "# Creating a right angled triangle\n",
    "print(\"Pattern 1:\")\n",
    "i=1\n",
    "while i<=5:\n",
    "    j=1\n",
    "    while j<=i:\n",
    "        print(\"*\", end=\"\")\n",
    "        j+=1\n",
    "    print(\"\")\n",
    "    i+=1\n",
    "        \n",
    "# creating a upside down triangle\n",
    "\n",
    "print(\"\\nPattern 2:\")\n",
    "i=5\n",
    "while i>=1:\n",
    "    j=1\n",
    "    while j<=i:\n",
    "        print(\"*\", end=\"\")\n",
    "        j+=1\n",
    "    print(\"\")\n",
    "    i-=1\n",
    "        \n",
    "# creating a left side right angled triangle\n",
    "\n",
    "print(\"\\nPattern 3:\")\n",
    "i=5\n",
    "while i>=1:\n",
    "    j=5\n",
    "    while j>i:\n",
    "        print(\" \", end=\"\")\n",
    "        j-=1\n",
    "    k=1\n",
    "    while k<=i:\n",
    "        print(\"*\", end=\"\")\n",
    "        k+=1\n",
    "    print(\"\")\n",
    "    i-=1\n",
    "\n"
   ]
  },
  {
   "cell_type": "markdown",
   "id": "a6fa9fd2-98be-4349-b64e-ee6eb9004eea",
   "metadata": {},
   "source": [
    "### Reverse a while loop from 10 to 1"
   ]
  },
  {
   "cell_type": "code",
   "execution_count": null,
   "id": "53a1ecfe-789a-470c-b6b5-8fa1aeb17391",
   "metadata": {},
   "outputs": [],
   "source": [
    "while a in range(10,0):\n",
    "    print(a)\n",
    "    a=a+1"
   ]
  },
  {
   "cell_type": "code",
   "execution_count": null,
   "id": "cf803c7e-1d59-4b26-9d19-de5ba1ca546e",
   "metadata": {},
   "outputs": [],
   "source": [
    "a=10\n",
    "while i>=a:\n",
    "    print(i)\n",
    "    i=i-1"
   ]
  },
  {
   "cell_type": "code",
   "execution_count": null,
   "id": "592bb621-3015-4dc4-ab30-157e6e27c503",
   "metadata": {},
   "outputs": [],
   "source": []
  }
 ],
 "metadata": {
  "kernelspec": {
   "display_name": "Python 3 (ipykernel)",
   "language": "python",
   "name": "python3"
  },
  "language_info": {
   "codemirror_mode": {
    "name": "ipython",
    "version": 3
   },
   "file_extension": ".py",
   "mimetype": "text/x-python",
   "name": "python",
   "nbconvert_exporter": "python",
   "pygments_lexer": "ipython3",
   "version": "3.10.8"
  }
 },
 "nbformat": 4,
 "nbformat_minor": 5
}
