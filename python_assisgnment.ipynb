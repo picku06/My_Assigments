{
 "cells": [
  {
   "cell_type": "markdown",
   "id": "e045ce02-6c82-47ee-8e92-48787b019368",
   "metadata": {},
   "source": [
    "# <u> <p style='text-align: center;'> PYTHON ASSIGNMENT </p> </u>"
   ]
  },
  {
   "cell_type": "markdown",
   "id": "25c62345-8fcd-44ba-8905-294349b63aea",
   "metadata": {},
   "source": [
    "### Q1. Create a python program to sort the given list of tuples based on integer value using a lambda function.\n",
    "[('Sachin Tendulkar', 34357), ('Ricky Ponting', 27483), ('Jack Kallis', 25534), ('Virat Kohli', 24936)]\n"
   ]
  },
  {
   "cell_type": "code",
   "execution_count": 1,
   "id": "1dc9f725-1ac6-40b5-892d-bc1f114daf1f",
   "metadata": {},
   "outputs": [
    {
     "name": "stdout",
     "output_type": "stream",
     "text": [
      "('Virat Kohli', 24936)\n",
      "('Jack Kallis', 25534)\n",
      "('Ricky Ponting', 27483)\n",
      "('Sachin Tendulkar', 34357)\n"
     ]
    }
   ],
   "source": [
    "data = [('Sachin Tendulkar', 34357), ('Ricky Ponting', 27483), ('Jack Kallis', 25534), ('Virat Kohli', 24936)]\n",
    "\n",
    "sorted_data = sorted(data, key=lambda x: x[1])\n",
    "\n",
    "for item in sorted_data:\n",
    "    print(item)"
   ]
  },
  {
   "cell_type": "markdown",
   "id": "3c33dd7f-ccbe-4669-a731-777010023fc4",
   "metadata": {},
   "source": [
    "### Q2. Write a Python Program to find the squares of all the numbers in the given list of integers using lambda and map functions.\n",
    "[1, 2, 3, 4, 5, 6, 7, 8, 9, 10]"
   ]
  },
  {
   "cell_type": "code",
   "execution_count": 2,
   "id": "990a905f-0a2e-44eb-baa2-22f09194e88b",
   "metadata": {},
   "outputs": [
    {
     "name": "stdout",
     "output_type": "stream",
     "text": [
      "[1, 4, 9, 16, 25, 36, 49, 64, 81, 100]\n"
     ]
    }
   ],
   "source": [
    "numbers = [1, 2, 3, 4, 5, 6, 7, 8, 9, 10]\n",
    "\n",
    "squared_numbers = list(map(lambda x: x**2, numbers))\n",
    "\n",
    "print(squared_numbers)"
   ]
  },
  {
   "cell_type": "markdown",
   "id": "df62c448-e02a-4bc0-854c-f57f2c87e66e",
   "metadata": {},
   "source": [
    "### Q4. Write a python program using reduce function to compute the product of a list containing numbers\n",
    "from 1 to 25."
   ]
  },
  {
   "cell_type": "code",
   "execution_count": 1,
   "id": "c38a9fdf-55d6-4bf7-9454-8a3bde77275c",
   "metadata": {},
   "outputs": [
    {
     "name": "stdout",
     "output_type": "stream",
     "text": [
      "Product: 15511210043330985984000000\n"
     ]
    }
   ],
   "source": [
    "from functools import reduce\n",
    "\n",
    "# Create a list containing numbers from 1 to 25\n",
    "numbers = list(range(1, 26))\n",
    "\n",
    "# Define the multiplication function\n",
    "def multiply(x, y):\n",
    "    return x * y\n",
    "\n",
    "# Use reduce to compute the product of the list\n",
    "product = reduce(multiply, numbers)\n",
    "\n",
    "# Print the result\n",
    "print(\"Product:\", product)\n"
   ]
  },
  {
   "cell_type": "markdown",
   "id": "d721309e-7d49-488a-aaa7-c839855a6b4c",
   "metadata": {},
   "source": [
    "#### The reduce function takes two arguments: the function to apply (in this case, multiply) and the iterable to reduce (in this case, numbers). The multiply function multiplies two numbers together, and reduce applies this function cumulatively to the elements of numbers, from left to right, to compute the final product."
   ]
  },
  {
   "cell_type": "markdown",
   "id": "a9a05948-b1a0-4079-8cc2-42c963ce53ea",
   "metadata": {},
   "source": [
    "### Q5. Write a python program to filter the numbers in a given list that are divisible by 2 and 3 using the\n",
    "filter function.\n",
    "[2, 3, 6, 9, 27, 60, 90, 120, 55, 46]"
   ]
  },
  {
   "cell_type": "code",
   "execution_count": 2,
   "id": "14a83b4d-ea06-40ea-ba49-d1357b733f9b",
   "metadata": {},
   "outputs": [
    {
     "name": "stdout",
     "output_type": "stream",
     "text": [
      "Filtered Numbers: [6, 60, 90, 120]\n"
     ]
    }
   ],
   "source": [
    "# Define the list of numbers\n",
    "numbers = [2, 3, 6, 9, 27, 60, 90, 120, 55, 46]\n",
    "\n",
    "# Define the function to check if a number is divisible by 2 and 3\n",
    "def divisible_by_2_and_3(num):\n",
    "    return num % 2 == 0 and num % 3 == 0\n",
    "\n",
    "# Use filter to get the numbers that satisfy the condition\n",
    "filtered_numbers = list(filter(divisible_by_2_and_3, numbers))\n",
    "\n",
    "# Print the filtered numbers\n",
    "print(\"Filtered Numbers:\", filtered_numbers)\n"
   ]
  },
  {
   "cell_type": "markdown",
   "id": "77c2ccc2-c95e-4742-bec9-2b1b0d40fc6a",
   "metadata": {},
   "source": [
    "#### In this program, the divisible_by_2_and_3 function checks if a number is divisible by both 2 and 3 by using the modulo operator (%). The filter function applies this function to each element in the numbers list and returns a new iterator containing only the elements that satisfy the condition. Finally, we convert the iterator to a list and print the filtered numbers."
   ]
  },
  {
   "cell_type": "markdown",
   "id": "8632ed2a-f55c-4771-ab26-d12c19b91366",
   "metadata": {},
   "source": [
    "### "
   ]
  }
 ],
 "metadata": {
  "kernelspec": {
   "display_name": "Python 3 (ipykernel)",
   "language": "python",
   "name": "python3"
  },
  "language_info": {
   "codemirror_mode": {
    "name": "ipython",
    "version": 3
   },
   "file_extension": ".py",
   "mimetype": "text/x-python",
   "name": "python",
   "nbconvert_exporter": "python",
   "pygments_lexer": "ipython3",
   "version": "3.10.8"
  }
 },
 "nbformat": 4,
 "nbformat_minor": 5
}
