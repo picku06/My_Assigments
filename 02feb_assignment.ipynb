{
 "cells": [
  {
   "cell_type": "markdown",
   "id": "586ed75e-e8bb-4ebd-b21c-70e2fdbbe7f5",
   "metadata": {},
   "source": [
    "## 1) What are the characteristics of tuple? Is tuple immutable?"
   ]
  },
  {
   "cell_type": "markdown",
   "id": "47f3680c-5562-40ec-91ef-ffbd3c27dcf7",
   "metadata": {},
   "source": [
    "Ans) Tuples are an ordered collection of elements of different data types. Furthermore, we represent them by writing the<br>      elements inside the parenthesis separated by commas. We can also define tuples as lists that we cannot<br> change.           Therefore, we can call them immutable tuples.<br>\n",
    "     The characteristics are:-<br>\n",
    "         1) Ordered-<br>\n",
    "                    When we say that tuples are ordered, it means that the items have a defined order, and that order                         will not change<br>\n",
    "        2) Unchangeable-<br>\n",
    "                    Tuples are unchangeable, meaning that we cannot change, add or remove items after the tuple has been                     created.<br>\n",
    "        3)Allow Duplicates-<br>\n",
    "                    Since tuples are indexed, they can have items with the same value            "
   ]
  },
  {
   "cell_type": "markdown",
   "id": "86ef1747-8462-4fbc-a077-42c92e9fcfd0",
   "metadata": {},
   "source": [
    "## 2) What are the two tuple methods in python?<br> Explain with an example.<br> Give reason why there are only two built-in functions as compared to list?"
   ]
  },
  {
   "cell_type": "markdown",
   "id": "1bf9c729-8a15-4597-9c9d-df238e38c823",
   "metadata": {},
   "source": [
    "ans) In Python, tuples are immutables. Meaning, you cannot change items of a tuple once it is assigned. There are only two tuple methods <b>count()</b> and <b>index()</b> that a tuple object can call.<br>\n",
    " <u>1) Index Method:-</u><br> \n",
    "                        This method takes one argument and returns the index of the first appearance of an item in a                             tuple. Let’s take a new tuple.<br>\n",
    "                        For example:-<br>\n",
    "                        a=(1,2,3,4,5,6)<br>\n",
    "                        a.index(0)<br>\n",
    "                        output:- 1<br>\n",
    "                        \n",
    " <u>2) Count Method:-</u><br> \n",
    "                        This method takes one argument and returns the number of times an item appears in the tuple.<br>\n",
    "                        For example:-<br>\n",
    "                        a=(1,2,2.34,2,2,2,4,5,6)<br>\n",
    "                        a.count(2)<br>\n",
    "                        output:- 5<br>\n",
    "                        \n",
    "<u>Differnce b/w list and tuple, that why there are only two built-in methods in tuple:-<br></u>\n",
    "                        List and Tuple in Python are the classes of Python Data Structures. The list is dynamic, whereas                         the tuple has static characteristics. This means that lists can be modified whereas tuples cannot                         be modified, the tuple is faster than the list because of static in nature. Lists are denoted by                         the square brackets but tuples are denoted as parenthesis.\n"
   ]
  },
  {
   "cell_type": "markdown",
   "id": "fbac158a-3283-489a-88e4-e657bcc0d0da",
   "metadata": {},
   "source": [
    "## 2) Which Collection of data types in python do not allow duplicate items.<br> Write code to remove duplicates from the following list-<br> list=[1,1,1,2,1,3,1,4,2,1,2,2,2,3,2,4,3,1,3,2,3,3,3,4,4,1,4,2,4,3,4,4]"
   ]
  },
  {
   "cell_type": "markdown",
   "id": "209c5a6c-fabc-41b4-9db1-bd7d9de7db65",
   "metadata": {},
   "source": [
    "Ans) <b>Set<b> is a collection of data types in python do not allow duplicate items.<br>Write code to remove duplicates from the following list-<br> list=[1,1,1,2,1,3,1,4,2,1,2,2,2,3,2,4,3,1,3,2,3,3,3,4,4,1,4,2,4,3,4,4]<br>Following is the code:-"
   ]
  },
  {
   "cell_type": "code",
   "execution_count": 1,
   "id": "95c6953f-1e71-4c55-aca2-cedba2cc2224",
   "metadata": {},
   "outputs": [
    {
     "name": "stdout",
     "output_type": "stream",
     "text": [
      "{1, 2, 3, 4}\n"
     ]
    }
   ],
   "source": [
    "your_list=[1,1,1,2,1,3,1,4,2,1,2,2,2,3,2,4,3,1,3,2,3,3,3,4,4,1,4,2,4,3,4,4]\n",
    "my_set=set(your_list)\n",
    "print(my_set)"
   ]
  },
  {
   "cell_type": "markdown",
   "id": "844b3eaa-f86b-47b1-a1fa-a8152127eefa",
   "metadata": {},
   "source": [
    "Above is an example of how to remove duplicates from list using set and we can also convert in list again. Like,"
   ]
  },
  {
   "cell_type": "code",
   "execution_count": 2,
   "id": "54a1d133-349d-47f9-842d-c88f0adf509f",
   "metadata": {},
   "outputs": [
    {
     "name": "stdout",
     "output_type": "stream",
     "text": [
      "[1, 2, 3, 4]\n"
     ]
    }
   ],
   "source": [
    "your_list=list(my_set)\n",
    "print(your_list)"
   ]
  },
  {
   "cell_type": "markdown",
   "id": "902e668c-e76a-46d1-9be1-ab25ccefad39",
   "metadata": {},
   "source": [
    "## 4) Explain the difference between Union() and update() method of set with an example."
   ]
  },
  {
   "cell_type": "markdown",
   "id": "f282eaff-5ccf-4327-b4bd-83c0ec612ee2",
   "metadata": {},
   "source": [
    "Ans) Python sets have these methods:<br>\n",
    "        1) Union()<br>\n",
    "        2)Update()<br>"
   ]
  },
  {
   "cell_type": "markdown",
   "id": "d543c647-ff64-4b9e-8643-73caabb1596d",
   "metadata": {},
   "source": [
    "| UNION() | UPDATE() |\n",
    "|---------|----------|\n",
    "|  the union() function on a Python set and provide any iterable object as an argument - here's an example for a Python list  |  The update() adds all missing elements to the set on which it is called and returns None, while the latter creates and returns a new set. |\n",
    "| l1 = {1, 2, 3}<br> l2 = [2, 3, 4]<br> print(l1.union(l2)) | A = {'Python', 'R', 'Julia'}<br> B = {'Python', 'JavaScript', 'Go'}<br> A.update(B)<br> print(B) |\n",
    "| <u>Output:- </u><br>{'Go', 'Python', 'JavaScript', 'R', 'Julia'} | <u>Output:- </u><br>{1, 2, 3, 4} |"
   ]
  },
  {
   "cell_type": "code",
   "execution_count": 4,
   "id": "f1f5805a-0802-4f6a-b457-cdf86db2181f",
   "metadata": {},
   "outputs": [
    {
     "name": "stdout",
     "output_type": "stream",
     "text": [
      "{1, 2, 3, 4}\n"
     ]
    }
   ],
   "source": [
    "#union()\n",
    "l1 = {1, 2, 3}\n",
    "l2 = [2, 3, 4]\n",
    "print(l1.union(l2))\n",
    "\n"
   ]
  },
  {
   "cell_type": "code",
   "execution_count": 6,
   "id": "e9c040c2-fec3-4842-b398-a9dbf61caf07",
   "metadata": {},
   "outputs": [
    {
     "name": "stdout",
     "output_type": "stream",
     "text": [
      "{'JavaScript', 'Python', 'Go'}\n"
     ]
    }
   ],
   "source": [
    "#UPDATE()\n",
    "A = {'Python', 'R', 'Julia'}\n",
    "B = {'Python', 'JavaScript', 'Go'}\n",
    "A.update(B)\n",
    "print(B)"
   ]
  },
  {
   "cell_type": "markdown",
   "id": "daf5e6b2-ca71-4611-a7c5-a8f00604d277",
   "metadata": {},
   "source": [
    "## 5) What is dictionary?<br> Why dictionary is unordered Collection of data types give explain with an example"
   ]
  },
  {
   "cell_type": "markdown",
   "id": "f317b8ac-bdaf-4b24-8b05-add0e699982b",
   "metadata": {},
   "source": [
    "Ans) Dictionary. Dictionaries are used to store data values in key:value pairs. A dictionary is a collection which is ordered*, changeable and do not allow duplicates. Dictionaries are ordered. In Python 3.6 and earlier, dictionaries are unordered. following is an example,"
   ]
  },
  {
   "cell_type": "code",
   "execution_count": 13,
   "id": "628be3bc-3f61-467f-8d5d-6382c88d5788",
   "metadata": {},
   "outputs": [
    {
     "name": "stdout",
     "output_type": "stream",
     "text": [
      "String:  akhitmdexzpqd\n",
      "\n",
      "Lists:  ['a', 'k', 'h', 'i', 't', 'm', 'd', 'e', 'x', 'z', 'p', 'q', 'd']\n",
      "\n",
      "Tuples:  ('a', 'k', 'h', 'i', 't', 'm', 'd', 'e', 'x', 'z', 'p', 'q', 'd')\n",
      "\n",
      "Sets:  {'t', 'h', 'x', 'i', 'z', 'k', 'q', 'm', 'd', 'e', 'p', 'a'}\n",
      "\n",
      "Shruti\n"
     ]
    }
   ],
   "source": [
    "letters = 'akhitmdexzpqd'\n",
    "\n",
    "string_letters = str(letters)\n",
    "lists_letters = list(letters)\n",
    "tuples_letters = tuple(letters)\n",
    "sets_letters = set(letters)\n",
    "dict_1={\"Name\":\"Shruti\",\"id\":4567,\"City\":\"Nagpur\"}\n",
    "\n",
    "print(\"String: \", string_letters)\n",
    "print() # for new line\n",
    "print(\"Lists: \", lists_letters)\n",
    "print() # for new line\n",
    "print(\"Tuples: \", tuples_letters)\n",
    "print() # for new line\n",
    "print(\"Sets: \", sets_letters)\n",
    "print()# for new line\n",
    "print(dict_1[\"Name\"])"
   ]
  },
  {
   "cell_type": "markdown",
   "id": "376cf02c-9b34-4a35-9ccd-b6aeb8c34ed3",
   "metadata": {},
   "source": [
    "Here in the above exapmle of program, you can see that list, tuple and string gave ordered results of elements whereas For dictionary is not possible to access its element using position as element in dictionary is not ordered. It means that unlike list, position of element in the dictionary does not have a fixed position and we can’t access element of dictionary using D[0] or D[1]. You need to provide ‘key’ to access the corresponding value of the ‘key’."
   ]
  },
  {
   "cell_type": "markdown",
   "id": "c626c939-d1c4-4e3b-a3e2-828ce8652444",
   "metadata": {},
   "source": [
    "## 6) Can we create a nested dictionary? If so, give an example crreating of one single nested dictionary."
   ]
  },
  {
   "cell_type": "markdown",
   "id": "8c7060a0-8c98-4feb-a7c2-348769741b50",
   "metadata": {},
   "source": [
    "Ans) Yes we can create. Following is an exapmle,"
   ]
  },
  {
   "cell_type": "code",
   "execution_count": 18,
   "id": "908b0133-97af-4008-9382-48ea833dcb63",
   "metadata": {},
   "outputs": [
    {
     "name": "stdout",
     "output_type": "stream",
     "text": [
      "John\n",
      "22\n",
      "Not specified\n"
     ]
    }
   ],
   "source": [
    "people = {1: { 'name': 'John', 'age': '27', 'sex': 'Male' },\n",
    "          2: { 'name': 'Marie', 'age': '22', 'sex': 'Female' },\n",
    "          3: {'name': 'Julie', 'age': '26', 'sex': 'Not specified'}\n",
    "         }\n",
    "\n",
    "print(people[1]['name'])\n",
    "print(people[2]['age'])\n",
    "print(people[3]['sex'])"
   ]
  },
  {
   "cell_type": "markdown",
   "id": "a393a4ea-9bf7-45bc-a6ea-30bc0edfa66f",
   "metadata": {},
   "source": [
    "## 7) Using setdefault() method, create a named topics in the given dictionary and also add the value of a as this list<br> [\"Python\", \"Machine Learning\",\" Data science Masters\"]"
   ]
  },
  {
   "cell_type": "markdown",
   "id": "060cc1d1-ee81-4721-867b-59701079dea8",
   "metadata": {},
   "source": [
    "Ans)"
   ]
  },
  {
   "cell_type": "code",
   "execution_count": 21,
   "id": "095c78aa-c032-4dc2-b007-fe148be51126",
   "metadata": {},
   "outputs": [
    {
     "name": "stdout",
     "output_type": "stream",
     "text": [
      "{'Course': 'Data Science'}\n"
     ]
    }
   ],
   "source": [
    "#a dict prog using setdefault() method\n",
    "#list[\"python\",\"machine learning\",\"data science masters\"]\n",
    "dict1={\"Course\":\"Data Science\"}\n",
    "print(dict1)"
   ]
  },
  {
   "cell_type": "code",
   "execution_count": 29,
   "id": "5c80ab93-2dd0-4ec3-a3a8-f663f276258d",
   "metadata": {},
   "outputs": [
    {
     "name": "stdout",
     "output_type": "stream",
     "text": [
      "('Python', 'machine Learning', 'Data science Masters')\n"
     ]
    }
   ],
   "source": [
    "x=dict1.setdefault(\"Topics\",[\"Python\",\"machine Learning\",\"Data science Masters\"])\n",
    "print(x)"
   ]
  },
  {
   "cell_type": "code",
   "execution_count": 30,
   "id": "13b4e097-7d9d-49a6-828e-0fb1b534ef41",
   "metadata": {},
   "outputs": [
    {
     "name": "stdout",
     "output_type": "stream",
     "text": [
      "{'Course': 'Data Science', 'Topics': ('Python', 'machine Learning', 'Data science Masters')}\n"
     ]
    }
   ],
   "source": [
    "x=dict1\n",
    "print(dict1)"
   ]
  },
  {
   "cell_type": "markdown",
   "id": "0ef6410d-4813-45e9-bdda-a0293e0ec657",
   "metadata": {},
   "source": [
    "## 8) What are the three view objects in dictionaries?<br>use the three in-built methods in python to display these three view objects for the given dictionary<br>dict1={\"Sport\":\"cricket\",\"Teams\":[\"India\",\"Australia\",\"England\",\"South Africa\",\"New Zealand\"]}"
   ]
  },
  {
   "cell_type": "markdown",
   "id": "fd7f7165-55db-4ab5-a7bf-b8099e96c286",
   "metadata": {},
   "source": [
    "Ans) A dictionary is having set of keys and every key has a single allocated value.<br>In the python dictionaries, some of the methods return view objects.<br>The main view objects of dictionary in python are keys, values and items. They provide a non-constant view of the dictionary’s entries.Keys holds all the keys of the dictionary, the values objects holds all the values, whereas the items holds the key-value pairs.\n",
    "### Keys()<br>Values()<br>Items()<br>\n",
    "Uing this function lets make a program,"
   ]
  },
  {
   "cell_type": "code",
   "execution_count": 33,
   "id": "1a03ca15-11d3-4370-bbbb-5789b91432f5",
   "metadata": {},
   "outputs": [],
   "source": [
    "dict1={\"Sport\":\"cricket\",\"Teams\":[\"India\",\"Australia\",\"England\",\"South Africa\",\"New Zealand\"]}"
   ]
  },
  {
   "cell_type": "code",
   "execution_count": 34,
   "id": "486cd5f6-c91b-4ce3-8bdb-929a207f257a",
   "metadata": {},
   "outputs": [
    {
     "name": "stdout",
     "output_type": "stream",
     "text": [
      "{'Sport': 'cricket', 'Teams': ['India', 'Australia', 'England', 'South Africa', 'New Zealand']}\n"
     ]
    }
   ],
   "source": [
    "print(dict1)"
   ]
  },
  {
   "cell_type": "code",
   "execution_count": 36,
   "id": "687b7cb2-304e-4cea-9017-afe19c85d616",
   "metadata": {},
   "outputs": [
    {
     "name": "stdout",
     "output_type": "stream",
     "text": [
      "dict_keys(['Sport', 'Teams'])\n"
     ]
    }
   ],
   "source": [
    "#using Keys()\n",
    "x= dict1.keys()\n",
    "print(x)"
   ]
  },
  {
   "cell_type": "code",
   "execution_count": 38,
   "id": "8b94420a-7b6a-4edc-8a24-d78b61bf1daa",
   "metadata": {},
   "outputs": [
    {
     "name": "stdout",
     "output_type": "stream",
     "text": [
      "dict_values(['cricket', ['India', 'Australia', 'England', 'South Africa', 'New Zealand']])\n"
     ]
    }
   ],
   "source": [
    "#using values()\n",
    "y=dict1.values()\n",
    "print(y)"
   ]
  },
  {
   "cell_type": "code",
   "execution_count": 39,
   "id": "10f2aa12-01a6-4a92-b5d6-d13f0769b03f",
   "metadata": {},
   "outputs": [
    {
     "name": "stdout",
     "output_type": "stream",
     "text": [
      "dict_items([('Sport', 'cricket'), ('Teams', ['India', 'Australia', 'England', 'South Africa', 'New Zealand'])])\n"
     ]
    }
   ],
   "source": [
    "#using items()\n",
    "z=dict1.items()\n",
    "print(z)"
   ]
  },
  {
   "cell_type": "code",
   "execution_count": null,
   "id": "eeee7747-d082-4250-b3e2-b96ea774559c",
   "metadata": {},
   "outputs": [],
   "source": []
  }
 ],
 "metadata": {
  "kernelspec": {
   "display_name": "Python 3 (ipykernel)",
   "language": "python",
   "name": "python3"
  },
  "language_info": {
   "codemirror_mode": {
    "name": "ipython",
    "version": 3
   },
   "file_extension": ".py",
   "mimetype": "text/x-python",
   "name": "python",
   "nbconvert_exporter": "python",
   "pygments_lexer": "ipython3",
   "version": "3.10.8"
  }
 },
 "nbformat": 4,
 "nbformat_minor": 5
}
